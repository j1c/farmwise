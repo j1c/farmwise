{
 "cells": [
  {
   "cell_type": "code",
   "execution_count": 1,
   "metadata": {},
   "outputs": [],
   "source": [
    "import ee\n",
    "import geemap"
   ]
  },
  {
   "cell_type": "code",
   "execution_count": 4,
   "metadata": {},
   "outputs": [
    {
     "data": {
      "text/html": [
       "<p>To authorize access needed by Earth Engine, open the following\n",
       "        URL in a web browser and follow the instructions:</p>\n",
       "        <p><a href=https://code.earthengine.google.com/client-auth?scopes=https%3A//www.googleapis.com/auth/earthengine%20https%3A//www.googleapis.com/auth/devstorage.full_control&request_id=0VGYyeat3Y6u-ddcfSLnAOJXf3USTTJfzWRCEwlBRXM&tc=Snx81OqNi7vlxt80oB_StfNbQIWIQl-VBi02IkqO_W8&cc=bqSTb--FZUKebURuaPYq3vdDUJiJSjJMm7S8ch4ulBY>https://code.earthengine.google.com/client-auth?scopes=https%3A//www.googleapis.com/auth/earthengine%20https%3A//www.googleapis.com/auth/devstorage.full_control&request_id=0VGYyeat3Y6u-ddcfSLnAOJXf3USTTJfzWRCEwlBRXM&tc=Snx81OqNi7vlxt80oB_StfNbQIWIQl-VBi02IkqO_W8&cc=bqSTb--FZUKebURuaPYq3vdDUJiJSjJMm7S8ch4ulBY</a></p>\n",
       "        <p>The authorization workflow will generate a code, which you should paste in the box below.</p>\n",
       "        "
      ],
      "text/plain": [
       "<IPython.core.display.HTML object>"
      ]
     },
     "metadata": {},
     "output_type": "display_data"
    },
    {
     "name": "stdout",
     "output_type": "stream",
     "text": [
      "\n",
      "Successfully saved authorization token.\n"
     ]
    }
   ],
   "source": [
    "ee.Authenticate()\n",
    "ee.Initialize()"
   ]
  },
  {
   "cell_type": "code",
   "execution_count": 16,
   "metadata": {},
   "outputs": [],
   "source": [
    "dataset = ee.ImageCollection(\"MODIS/061/MOD11A1\")"
   ]
  },
  {
   "cell_type": "code",
   "execution_count": null,
   "metadata": {},
   "outputs": [],
   "source": [
    "start_date = '2020-01-01'\n",
    "end_date = '2020-12-31'\n",
    "\n",
    "lst_data = dataset.filterDate(start_date, end_date).select(\"LST_Day_1km\")\n",
    "shapefile = ee.FeatureCollection('TIGER/2018/States')\n",
    "iowa = shapefile.filter(ee.Filter.eq('STUSPS', 'IA'))\n",
    "\n",
    "filtered = lst_data.filterBounds(shapefile)\n",
    "def mask_outside(image):\n",
    "    return image.updateMask(image.clip(shapefile))\n",
    "\n",
    "# Apply the masking function to the dataset\n",
    "masked = filtered.map(mask_outside)"
   ]
  },
  {
   "cell_type": "code",
   "execution_count": null,
   "metadata": {},
   "outputs": [],
   "source": []
  },
  {
   "cell_type": "code",
   "execution_count": null,
   "metadata": {},
   "outputs": [],
   "source": [
    "# Load the MODIS LST dataset\n",
    "dataset = ee.ImageCollection('MODIS/006/MOD11A1') \\\n",
    "    .filterDate(start_date, end_date)\n",
    "\n",
    "# Load the shapefile for Iowa\n",
    "shapefile = ee.FeatureCollection('TIGER/2018/States') \\\n",
    "    .filter(ee.Filter.eq('STUSPS', 'IA'))\n",
    "\n",
    "# Filter the MODIS LST dataset by date and region (Iowa)\n",
    "filtered = dataset.filterBounds(shapefile)\n",
    "\n",
    "# Define a function to mask pixels outside the shapefile boundaries\n",
    "def mask_outside(image):\n",
    "    return image.updateMask(image.clip(shapefile))\n",
    "\n",
    "# Apply the masking function to the dataset\n",
    "masked = filtered.map(mask_outside)\n",
    "\n",
    "# Select the LST band\n",
    "lst_data = masked.select('LST_Day_1km')\n",
    "\n",
    "# Create a median composite image\n",
    "lst_median = lst_data.median()\n",
    "\n",
    "# Create a Map object\n",
    "Map = geemap.Map(center=[41.878, -93.097], zoom=7)\n",
    "\n",
    "# Add the median LST to the map\n",
    "Map.addLayer(lst_median, vis_params, 'MODIS LST (2020)')\n",
    "\n",
    "# Display the map\n",
    "Map"
   ]
  },
  {
   "cell_type": "code",
   "execution_count": 47,
   "metadata": {},
   "outputs": [],
   "source": [
    "import wxee"
   ]
  },
  {
   "cell_type": "code",
   "execution_count": 49,
   "metadata": {},
   "outputs": [
    {
     "data": {
      "application/vnd.jupyter.widget-view+json": {
       "model_id": "1f2b104a0e9b47b88dd9e909a7d04ca2",
       "version_major": 2,
       "version_minor": 0
      },
      "text/plain": [
       "Requesting data:   0%|          | 0/365 [00:00<?, ?it/s]"
      ]
     },
     "metadata": {},
     "output_type": "display_data"
    },
    {
     "ename": "EEException",
     "evalue": "Image.clipToBoundsAndScale: The geometry for image clipping must be bounded.",
     "output_type": "error",
     "traceback": [
      "\u001b[0;31m---------------------------------------------------------------------------\u001b[0m",
      "\u001b[0;31m_RemoteTraceback\u001b[0m                          Traceback (most recent call last)",
      "\u001b[0;31m_RemoteTraceback\u001b[0m: \n\"\"\"\nTraceback (most recent call last):\n  File \"/Users/jchung/anaconda/envs/farmwise/lib/python3.9/site-packages/ee/data.py\", line 345, in _execute_cloud_call\n    return call.execute(num_retries=num_retries)\n  File \"/Users/jchung/anaconda/envs/farmwise/lib/python3.9/site-packages/googleapiclient/_helpers.py\", line 130, in positional_wrapper\n    return wrapped(*args, **kwargs)\n  File \"/Users/jchung/anaconda/envs/farmwise/lib/python3.9/site-packages/googleapiclient/http.py\", line 938, in execute\n    raise HttpError(resp, content, uri=self.uri)\ngoogleapiclient.errors.HttpError: <HttpError 400 when requesting https://earthengine.googleapis.com/v1alpha/projects/earthengine-legacy/thumbnails?fields=name&alt=json returned \"Image.clipToBoundsAndScale: The geometry for image clipping must be bounded.\". Details: \"Image.clipToBoundsAndScale: The geometry for image clipping must be bounded.\">\n\nDuring handling of the above exception, another exception occurred:\n\nTraceback (most recent call last):\n  File \"/Users/jchung/anaconda/envs/farmwise/lib/python3.9/site-packages/joblib/_parallel_backends.py\", line 273, in _wrap_func_call\n    return func()\n  File \"/Users/jchung/anaconda/envs/farmwise/lib/python3.9/site-packages/joblib/parallel.py\", line 588, in __call__\n    return [func(*args, **kwargs)\n  File \"/Users/jchung/anaconda/envs/farmwise/lib/python3.9/site-packages/joblib/parallel.py\", line 588, in <listcomp>\n    return [func(*args, **kwargs)\n  File \"/Users/jchung/anaconda/envs/farmwise/lib/python3.9/site-packages/wxee/image.py\", line 236, in _get_url\n    url = img.getDownloadURL(\n  File \"/Users/jchung/anaconda/envs/farmwise/lib/python3.9/site-packages/ee/image.py\", line 469, in getDownloadURL\n    return data.makeDownloadUrl(data.getDownloadId(request))\n  File \"/Users/jchung/anaconda/envs/farmwise/lib/python3.9/site-packages/ee/data.py\", line 1198, in getDownloadId\n    result = _execute_cloud_call(\n  File \"/Users/jchung/anaconda/envs/farmwise/lib/python3.9/site-packages/ee/data.py\", line 347, in _execute_cloud_call\n    raise _translate_cloud_exception(e)\nee.ee_exception.EEException: Image.clipToBoundsAndScale: The geometry for image clipping must be bounded.\n\"\"\"",
      "\nThe above exception was the direct cause of the following exception:\n",
      "\u001b[0;31mEEException\u001b[0m                               Traceback (most recent call last)",
      "Cell \u001b[0;32mIn[49], line 1\u001b[0m\n\u001b[0;32m----> 1\u001b[0m lst_data\u001b[39m.\u001b[39;49mwx\u001b[39m.\u001b[39;49mto_xarray()\n",
      "File \u001b[0;32m~/anaconda/envs/farmwise/lib/python3.9/site-packages/wxee/collection.py:117\u001b[0m, in \u001b[0;36mImageCollection.to_xarray\u001b[0;34m(self, path, region, scale, crs, masked, nodata, num_cores, progress, max_attempts)\u001b[0m\n\u001b[1;32m     72\u001b[0m \u001b[39m\u001b[39m\u001b[39m\"\"\"Convert an image collection to an xarray.Dataset. The :code:`system:time_start` property of each image in the\u001b[39;00m\n\u001b[1;32m     73\u001b[0m \u001b[39mcollection is used to arrange the time dimension, and each image variable is loaded as a separate array in\u001b[39;00m\n\u001b[1;32m     74\u001b[0m \u001b[39mthe dataset.\u001b[39;00m\n\u001b[0;32m   (...)\u001b[0m\n\u001b[1;32m    114\u001b[0m \u001b[39m>>> col.wx.to_xarray(scale=40000, crs=\"EPSG:5070\", nodata=-9999)\u001b[39;00m\n\u001b[1;32m    115\u001b[0m \u001b[39m\"\"\"\u001b[39;00m\n\u001b[1;32m    116\u001b[0m \u001b[39mwith\u001b[39;00m tempfile\u001b[39m.\u001b[39mTemporaryDirectory(prefix\u001b[39m=\u001b[39mconstants\u001b[39m.\u001b[39mTMP_PREFIX) \u001b[39mas\u001b[39;00m tmp:\n\u001b[0;32m--> 117\u001b[0m     files \u001b[39m=\u001b[39m \u001b[39mself\u001b[39;49m\u001b[39m.\u001b[39;49m_obj\u001b[39m.\u001b[39;49mwx\u001b[39m.\u001b[39;49mto_tif(\n\u001b[1;32m    118\u001b[0m         out_dir\u001b[39m=\u001b[39;49mtmp,\n\u001b[1;32m    119\u001b[0m         region\u001b[39m=\u001b[39;49mregion,\n\u001b[1;32m    120\u001b[0m         scale\u001b[39m=\u001b[39;49mscale,\n\u001b[1;32m    121\u001b[0m         crs\u001b[39m=\u001b[39;49mcrs,\n\u001b[1;32m    122\u001b[0m         file_per_band\u001b[39m=\u001b[39;49m\u001b[39mTrue\u001b[39;49;00m,\n\u001b[1;32m    123\u001b[0m         masked\u001b[39m=\u001b[39;49mmasked,\n\u001b[1;32m    124\u001b[0m         nodata\u001b[39m=\u001b[39;49mnodata,\n\u001b[1;32m    125\u001b[0m         num_cores\u001b[39m=\u001b[39;49mnum_cores,\n\u001b[1;32m    126\u001b[0m         progress\u001b[39m=\u001b[39;49mprogress,\n\u001b[1;32m    127\u001b[0m         max_attempts\u001b[39m=\u001b[39;49mmax_attempts,\n\u001b[1;32m    128\u001b[0m     )\n\u001b[1;32m    130\u001b[0m     ds \u001b[39m=\u001b[39m _dataset_from_files(files, masked, nodata)\n\u001b[1;32m    132\u001b[0m \u001b[39mif\u001b[39;00m path:\n",
      "File \u001b[0;32m~/anaconda/envs/farmwise/lib/python3.9/site-packages/wxee/collection.py:212\u001b[0m, in \u001b[0;36mImageCollection.to_tif\u001b[0;34m(self, out_dir, prefix, region, scale, crs, file_per_band, masked, nodata, num_cores, progress, max_attempts)\u001b[0m\n\u001b[1;32m    208\u001b[0m \u001b[39mwith\u001b[39;00m Parallel(n_jobs\u001b[39m=\u001b[39mnum_cores, backend\u001b[39m=\u001b[39m\u001b[39m\"\u001b[39m\u001b[39mthreading\u001b[39m\u001b[39m\"\u001b[39m) \u001b[39mas\u001b[39;00m p:\n\u001b[1;32m    209\u001b[0m     \u001b[39mwith\u001b[39;00m parallel_tqdm(\n\u001b[1;32m    210\u001b[0m         tqdm(desc\u001b[39m=\u001b[39m\u001b[39m\"\u001b[39m\u001b[39mRequesting data\u001b[39m\u001b[39m\"\u001b[39m, total\u001b[39m=\u001b[39mn, disable\u001b[39m=\u001b[39m\u001b[39mnot\u001b[39;00m progress)\n\u001b[1;32m    211\u001b[0m     ):\n\u001b[0;32m--> 212\u001b[0m         urls \u001b[39m=\u001b[39m p(\n\u001b[1;32m    213\u001b[0m             delayed(img\u001b[39m.\u001b[39;49mwx\u001b[39m.\u001b[39;49m_get_url)(\n\u001b[1;32m    214\u001b[0m                 region, scale, crs, file_per_band, nodata, max_attempts\n\u001b[1;32m    215\u001b[0m             )\n\u001b[1;32m    216\u001b[0m             \u001b[39mfor\u001b[39;49;00m img \u001b[39min\u001b[39;49;00m imgs\n\u001b[1;32m    217\u001b[0m         )\n\u001b[1;32m    219\u001b[0m     \u001b[39mwith\u001b[39;00m parallel_tqdm(\n\u001b[1;32m    220\u001b[0m         tqdm(desc\u001b[39m=\u001b[39m\u001b[39m\"\u001b[39m\u001b[39mDownloading data\u001b[39m\u001b[39m\"\u001b[39m, total\u001b[39m=\u001b[39mn, disable\u001b[39m=\u001b[39m\u001b[39mnot\u001b[39;00m progress)\n\u001b[1;32m    221\u001b[0m     ):\n\u001b[1;32m    222\u001b[0m         img_urls \u001b[39m=\u001b[39m \u001b[39mzip\u001b[39m(imgs, urls)\n",
      "File \u001b[0;32m~/anaconda/envs/farmwise/lib/python3.9/site-packages/joblib/parallel.py:1944\u001b[0m, in \u001b[0;36mParallel.__call__\u001b[0;34m(self, iterable)\u001b[0m\n\u001b[1;32m   1938\u001b[0m \u001b[39m# The first item from the output is blank, but it makes the interpreter\u001b[39;00m\n\u001b[1;32m   1939\u001b[0m \u001b[39m# progress until it enters the Try/Except block of the generator and\u001b[39;00m\n\u001b[1;32m   1940\u001b[0m \u001b[39m# reach the first `yield` statement. This starts the aynchronous\u001b[39;00m\n\u001b[1;32m   1941\u001b[0m \u001b[39m# dispatch of the tasks to the workers.\u001b[39;00m\n\u001b[1;32m   1942\u001b[0m \u001b[39mnext\u001b[39m(output)\n\u001b[0;32m-> 1944\u001b[0m \u001b[39mreturn\u001b[39;00m output \u001b[39mif\u001b[39;00m \u001b[39mself\u001b[39m\u001b[39m.\u001b[39mreturn_generator \u001b[39melse\u001b[39;00m \u001b[39mlist\u001b[39;49m(output)\n",
      "File \u001b[0;32m~/anaconda/envs/farmwise/lib/python3.9/site-packages/joblib/parallel.py:1587\u001b[0m, in \u001b[0;36mParallel._get_outputs\u001b[0;34m(self, iterator, pre_dispatch)\u001b[0m\n\u001b[1;32m   1584\u001b[0m     \u001b[39myield\u001b[39;00m\n\u001b[1;32m   1586\u001b[0m     \u001b[39mwith\u001b[39;00m \u001b[39mself\u001b[39m\u001b[39m.\u001b[39m_backend\u001b[39m.\u001b[39mretrieval_context():\n\u001b[0;32m-> 1587\u001b[0m         \u001b[39myield from\u001b[39;00m \u001b[39mself\u001b[39m\u001b[39m.\u001b[39m_retrieve()\n\u001b[1;32m   1589\u001b[0m \u001b[39mexcept\u001b[39;00m \u001b[39mGeneratorExit\u001b[39;00m:\n\u001b[1;32m   1590\u001b[0m     \u001b[39m# The generator has been garbage collected before being fully\u001b[39;00m\n\u001b[1;32m   1591\u001b[0m     \u001b[39m# consumed. This aborts the remaining tasks if possible and warn\u001b[39;00m\n\u001b[1;32m   1592\u001b[0m     \u001b[39m# the user if necessary.\u001b[39;00m\n\u001b[1;32m   1593\u001b[0m     \u001b[39mself\u001b[39m\u001b[39m.\u001b[39m_exception \u001b[39m=\u001b[39m \u001b[39mTrue\u001b[39;00m\n",
      "File \u001b[0;32m~/anaconda/envs/farmwise/lib/python3.9/site-packages/joblib/parallel.py:1691\u001b[0m, in \u001b[0;36mParallel._retrieve\u001b[0;34m(self)\u001b[0m\n\u001b[1;32m   1684\u001b[0m \u001b[39mwhile\u001b[39;00m \u001b[39mself\u001b[39m\u001b[39m.\u001b[39m_wait_retrieval():\n\u001b[1;32m   1685\u001b[0m \n\u001b[1;32m   1686\u001b[0m     \u001b[39m# If the callback thread of a worker has signaled that its task\u001b[39;00m\n\u001b[1;32m   1687\u001b[0m     \u001b[39m# triggered an exception, or if the retrieval loop has raised an\u001b[39;00m\n\u001b[1;32m   1688\u001b[0m     \u001b[39m# exception (e.g. `GeneratorExit`), exit the loop and surface the\u001b[39;00m\n\u001b[1;32m   1689\u001b[0m     \u001b[39m# worker traceback.\u001b[39;00m\n\u001b[1;32m   1690\u001b[0m     \u001b[39mif\u001b[39;00m \u001b[39mself\u001b[39m\u001b[39m.\u001b[39m_aborting:\n\u001b[0;32m-> 1691\u001b[0m         \u001b[39mself\u001b[39;49m\u001b[39m.\u001b[39;49m_raise_error_fast()\n\u001b[1;32m   1692\u001b[0m         \u001b[39mbreak\u001b[39;00m\n\u001b[1;32m   1694\u001b[0m     \u001b[39m# If the next job is not ready for retrieval yet, we just wait for\u001b[39;00m\n\u001b[1;32m   1695\u001b[0m     \u001b[39m# async callbacks to progress.\u001b[39;00m\n",
      "File \u001b[0;32m~/anaconda/envs/farmwise/lib/python3.9/site-packages/joblib/parallel.py:1726\u001b[0m, in \u001b[0;36mParallel._raise_error_fast\u001b[0;34m(self)\u001b[0m\n\u001b[1;32m   1722\u001b[0m \u001b[39m# If this error job exists, immediatly raise the error by\u001b[39;00m\n\u001b[1;32m   1723\u001b[0m \u001b[39m# calling get_result. This job might not exists if abort has been\u001b[39;00m\n\u001b[1;32m   1724\u001b[0m \u001b[39m# called directly or if the generator is gc'ed.\u001b[39;00m\n\u001b[1;32m   1725\u001b[0m \u001b[39mif\u001b[39;00m error_job \u001b[39mis\u001b[39;00m \u001b[39mnot\u001b[39;00m \u001b[39mNone\u001b[39;00m:\n\u001b[0;32m-> 1726\u001b[0m     error_job\u001b[39m.\u001b[39;49mget_result(\u001b[39mself\u001b[39;49m\u001b[39m.\u001b[39;49mtimeout)\n",
      "File \u001b[0;32m~/anaconda/envs/farmwise/lib/python3.9/site-packages/joblib/parallel.py:735\u001b[0m, in \u001b[0;36mBatchCompletionCallBack.get_result\u001b[0;34m(self, timeout)\u001b[0m\n\u001b[1;32m    729\u001b[0m backend \u001b[39m=\u001b[39m \u001b[39mself\u001b[39m\u001b[39m.\u001b[39mparallel\u001b[39m.\u001b[39m_backend\n\u001b[1;32m    731\u001b[0m \u001b[39mif\u001b[39;00m backend\u001b[39m.\u001b[39msupports_retrieve_callback:\n\u001b[1;32m    732\u001b[0m     \u001b[39m# We assume that the result has already been retrieved by the\u001b[39;00m\n\u001b[1;32m    733\u001b[0m     \u001b[39m# callback thread, and is stored internally. It's just waiting to\u001b[39;00m\n\u001b[1;32m    734\u001b[0m     \u001b[39m# be returned.\u001b[39;00m\n\u001b[0;32m--> 735\u001b[0m     \u001b[39mreturn\u001b[39;00m \u001b[39mself\u001b[39;49m\u001b[39m.\u001b[39;49m_return_or_raise()\n\u001b[1;32m    737\u001b[0m \u001b[39m# For other backends, the main thread needs to run the retrieval step.\u001b[39;00m\n\u001b[1;32m    738\u001b[0m \u001b[39mtry\u001b[39;00m:\n",
      "File \u001b[0;32m~/anaconda/envs/farmwise/lib/python3.9/site-packages/joblib/parallel.py:753\u001b[0m, in \u001b[0;36mBatchCompletionCallBack._return_or_raise\u001b[0;34m(self)\u001b[0m\n\u001b[1;32m    751\u001b[0m \u001b[39mtry\u001b[39;00m:\n\u001b[1;32m    752\u001b[0m     \u001b[39mif\u001b[39;00m \u001b[39mself\u001b[39m\u001b[39m.\u001b[39mstatus \u001b[39m==\u001b[39m TASK_ERROR:\n\u001b[0;32m--> 753\u001b[0m         \u001b[39mraise\u001b[39;00m \u001b[39mself\u001b[39m\u001b[39m.\u001b[39m_result\n\u001b[1;32m    754\u001b[0m     \u001b[39mreturn\u001b[39;00m \u001b[39mself\u001b[39m\u001b[39m.\u001b[39m_result\n\u001b[1;32m    755\u001b[0m \u001b[39mfinally\u001b[39;00m:\n",
      "\u001b[0;31mEEException\u001b[0m: Image.clipToBoundsAndScale: The geometry for image clipping must be bounded."
     ]
    }
   ],
   "source": [
    "lst_data.wx.to_xarray()"
   ]
  },
  {
   "cell_type": "code",
   "execution_count": null,
   "metadata": {},
   "outputs": [],
   "source": []
  }
 ],
 "metadata": {
  "kernelspec": {
   "display_name": "farmwise",
   "language": "python",
   "name": "python3"
  },
  "language_info": {
   "codemirror_mode": {
    "name": "ipython",
    "version": 3
   },
   "file_extension": ".py",
   "mimetype": "text/x-python",
   "name": "python",
   "nbconvert_exporter": "python",
   "pygments_lexer": "ipython3",
   "version": "3.9.16"
  },
  "orig_nbformat": 4
 },
 "nbformat": 4,
 "nbformat_minor": 2
}
